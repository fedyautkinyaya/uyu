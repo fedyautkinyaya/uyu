{
 "cells": [
  {
   "cell_type": "code",
   "execution_count": 3,
   "id": "28ca142b",
   "metadata": {},
   "outputs": [],
   "source": [
    "import pandas as pd\n",
    "import numpy as np\n",
    "import cv2 as cv\n",
    "import xml.etree.ElementTree as et\n",
    "import os"
   ]
  },
  {
   "cell_type": "code",
   "execution_count": 2,
   "id": "e11fc592",
   "metadata": {},
   "outputs": [],
   "source": [
    "xml_dir = '/home/fedyautkin/PycharmProjects/pythonProject4py379/neuro/VOC2028/1/' #path to .xml files\n",
    "txt_dir = '/home/fedyautkin/PycharmProjects/pythonProject4py379/neuro/VOC2028/2/' #path to create .txt files\n",
    "xml_files = os.listdir(xml_dir)\n",
    "for file_name in (xml_files):\n",
    "    xmin = xmax = ymin = ymax = files = names = labels_id = []\n",
    "    a= str(xml_dir + file_name)\n",
    "    tree = et.parse(a)\n",
    "    root = tree.getroot()\n",
    "    width = int(root.find('size/width').text)\n",
    "    height = int(root.find('size/height').text)\n",
    "    for tag1 in root.findall('object/name'):\n",
    "        if str(tag1.text) == 'hat':\n",
    "            labels_id = np.append(labels_id, '0')\n",
    "        else:\n",
    "            labels_id = np.append(labels_id, '1')        \n",
    "    for tag1 in root.findall('object/bndbox/xmin'):\n",
    "        xmin = np.append(xmin, int(tag1.text))\n",
    "    for tag1 in root.findall('object/bndbox/xmax'):\n",
    "        xmax = np.append(xmax, int(tag1.text))\n",
    "    for tag1 in root.findall('object/bndbox/ymin'):\n",
    "        ymin = np.append(ymin, int(tag1.text))\n",
    "    for tag1 in root.findall('object/bndbox/ymax'):\n",
    "        ymax = np.append(ymax, int(tag1.text))\n",
    "    width_norm = (xmax-xmin)/width\n",
    "    height_norm = (ymax-ymin)/height\n",
    "    xmin = xmin\n",
    "    x_center_norm = (((xmax-xmin)//2)+xmin)/width\n",
    "    y_center_norm = (((ymax-ymin)//2)+ymin)/height\n",
    "\n",
    "    txt_file_name = (txt_dir + file_name[:-3] + 'txt')\n",
    "    file_txt = open(txt_file_name, 'w+')\n",
    "    for i in range(len(labels_id)):\n",
    "        textt = (str(labels_id[i]) + ' ' + str(x_center_norm[i]) + ' ' + str(y_center_norm[i]) + ' ' + str(width_norm[i]) + ' ' + str(height_norm[i]))\n",
    "        file_txt.write(f\"{textt}\\n\")\n",
    "    file_txt.close\n",
    "\n"
   ]
  },
  {
   "cell_type": "code",
   "execution_count": null,
   "id": "afbdbcde",
   "metadata": {},
   "outputs": [],
   "source": []
  }
 ],
 "metadata": {
  "kernelspec": {
   "display_name": "Python 3 (ipykernel)",
   "language": "python",
   "name": "python3"
  },
  "language_info": {
   "codemirror_mode": {
    "name": "ipython",
    "version": 3
   },
   "file_extension": ".py",
   "mimetype": "text/x-python",
   "name": "python",
   "nbconvert_exporter": "python",
   "pygments_lexer": "ipython3",
   "version": "3.7.9"
  }
 },
 "nbformat": 4,
 "nbformat_minor": 5
}
